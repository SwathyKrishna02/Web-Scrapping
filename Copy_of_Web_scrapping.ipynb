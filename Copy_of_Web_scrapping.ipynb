{
  "nbformat": 4,
  "nbformat_minor": 0,
  "metadata": {
    "colab": {
      "provenance": [],
      "include_colab_link": true
    },
    "kernelspec": {
      "name": "python3",
      "display_name": "Python 3"
    },
    "language_info": {
      "name": "python"
    }
  },
  "cells": [
    {
      "cell_type": "markdown",
      "metadata": {
        "id": "view-in-github",
        "colab_type": "text"
      },
      "source": [
        "<a href=\"https://colab.research.google.com/github/SwathyKrishna02/Web-Scrapping/blob/main/Copy_of_Web_scrapping.ipynb\" target=\"_parent\"><img src=\"https://colab.research.google.com/assets/colab-badge.svg\" alt=\"Open In Colab\"/></a>"
      ]
    },
    {
      "cell_type": "markdown",
      "source": [
        "Extract data from Wikipedia :\n",
        "India - All sates\n",
        "\n",
        "Bollywood Movies  wikipedia page:\n",
        "\n"
      ],
      "metadata": {
        "id": "iBfIeJcKtoQj"
      }
    },
    {
      "cell_type": "code",
      "execution_count": 71,
      "metadata": {
        "id": "IPmP4eQtremO"
      },
      "outputs": [],
      "source": [
        "import requests\n",
        "from bs4 import BeautifulSoup as bs\n",
        "import pandas as pd\n",
        "from IPython.display import display"
      ]
    },
    {
      "cell_type": "code",
      "source": [
        "url = 'http://books.toscrape.com/'\n",
        "\n",
        "response = requests.get(url)\n"
      ],
      "metadata": {
        "id": "VwAigJ5Bsra8"
      },
      "execution_count": 34,
      "outputs": []
    },
    {
      "cell_type": "code",
      "source": [
        "response.status_code"
      ],
      "metadata": {
        "colab": {
          "base_uri": "https://localhost:8080/"
        },
        "id": "M8rk4Lhytctv",
        "outputId": "93f43c64-bd44-4a74-c4e8-ac515c944bb0"
      },
      "execution_count": 35,
      "outputs": [
        {
          "output_type": "execute_result",
          "data": {
            "text/plain": [
              "200"
            ]
          },
          "metadata": {},
          "execution_count": 35
        }
      ]
    },
    {
      "cell_type": "code",
      "source": [
        "type(response)"
      ],
      "metadata": {
        "colab": {
          "base_uri": "https://localhost:8080/"
        },
        "id": "hsxAu29PuYjY",
        "outputId": "beed9aac-ad5b-4ac6-95e4-cdc12be90d6f"
      },
      "execution_count": 36,
      "outputs": [
        {
          "output_type": "execute_result",
          "data": {
            "text/plain": [
              "requests.models.Response"
            ]
          },
          "metadata": {},
          "execution_count": 36
        }
      ]
    },
    {
      "cell_type": "code",
      "source": [
        "print(response.text[:1000])"
      ],
      "metadata": {
        "colab": {
          "base_uri": "https://localhost:8080/"
        },
        "id": "4IPTBHsetiWl",
        "outputId": "4c128bcc-d940-4577-b28b-45cd5edbc01a"
      },
      "execution_count": 37,
      "outputs": [
        {
          "output_type": "stream",
          "name": "stdout",
          "text": [
            "<!DOCTYPE html>\n",
            "<!--[if lt IE 7]>      <html lang=\"en-us\" class=\"no-js lt-ie9 lt-ie8 lt-ie7\"> <![endif]-->\n",
            "<!--[if IE 7]>         <html lang=\"en-us\" class=\"no-js lt-ie9 lt-ie8\"> <![endif]-->\n",
            "<!--[if IE 8]>         <html lang=\"en-us\" class=\"no-js lt-ie9\"> <![endif]-->\n",
            "<!--[if gt IE 8]><!--> <html lang=\"en-us\" class=\"no-js\"> <!--<![endif]-->\n",
            "    <head>\n",
            "        <title>\n",
            "    All products | Books to Scrape - Sandbox\n",
            "</title>\n",
            "\n",
            "        <meta http-equiv=\"content-type\" content=\"text/html; charset=UTF-8\" />\n",
            "        <meta name=\"created\" content=\"24th Jun 2016 09:29\" />\n",
            "        <meta name=\"description\" content=\"\" />\n",
            "        <meta name=\"viewport\" content=\"width=device-width\" />\n",
            "        <meta name=\"robots\" content=\"NOARCHIVE,NOCACHE\" />\n",
            "\n",
            "        <!-- Le HTML5 shim, for IE6-8 support of HTML elements -->\n",
            "        <!--[if lt IE 9]>\n",
            "        <script src=\"//html5shim.googlecode.com/svn/trunk/html5.js\"></script>\n",
            "        <![endif]-->\n",
            "\n",
            "        \n",
            "            <link rel=\"shortcut icon\" href=\"static/oscar/favicon.\n"
          ]
        }
      ]
    },
    {
      "cell_type": "code",
      "source": [
        "type(response.text)"
      ],
      "metadata": {
        "colab": {
          "base_uri": "https://localhost:8080/"
        },
        "id": "dGO0ueEqu6_M",
        "outputId": "721e45af-1ec8-4249-bb19-0d41fcbb28a4"
      },
      "execution_count": 38,
      "outputs": [
        {
          "output_type": "execute_result",
          "data": {
            "text/plain": [
              "str"
            ]
          },
          "metadata": {},
          "execution_count": 38
        }
      ]
    },
    {
      "cell_type": "code",
      "source": [
        "soup = bs(response.text)\n",
        "type(soup)"
      ],
      "metadata": {
        "colab": {
          "base_uri": "https://localhost:8080/"
        },
        "id": "djAzAK5rvSz6",
        "outputId": "1aa3eb62-e3a2-4ee4-cc15-cd5158d9f557"
      },
      "execution_count": 39,
      "outputs": [
        {
          "output_type": "execute_result",
          "data": {
            "text/plain": [
              "bs4.BeautifulSoup"
            ]
          },
          "metadata": {},
          "execution_count": 39
        }
      ]
    },
    {
      "cell_type": "code",
      "source": [
        "soup.find('title').text"
      ],
      "metadata": {
        "colab": {
          "base_uri": "https://localhost:8080/",
          "height": 35
        },
        "id": "m0RfWeFXv_Ei",
        "outputId": "71c36cec-7676-42b8-8d08-689f1d56be06"
      },
      "execution_count": 40,
      "outputs": [
        {
          "output_type": "execute_result",
          "data": {
            "text/plain": [
              "'\\n    All products | Books to Scrape - Sandbox\\n'"
            ],
            "application/vnd.google.colaboratory.intrinsic+json": {
              "type": "string"
            }
          },
          "metadata": {},
          "execution_count": 40
        }
      ]
    },
    {
      "cell_type": "code",
      "source": [
        "soup.find('title').text.strip()"
      ],
      "metadata": {
        "colab": {
          "base_uri": "https://localhost:8080/",
          "height": 35
        },
        "id": "-rpzn9x_wUbs",
        "outputId": "b4f3cd39-2d99-4980-d6be-c3d177f54d42"
      },
      "execution_count": 41,
      "outputs": [
        {
          "output_type": "execute_result",
          "data": {
            "text/plain": [
              "'All products | Books to Scrape - Sandbox'"
            ],
            "application/vnd.google.colaboratory.intrinsic+json": {
              "type": "string"
            }
          },
          "metadata": {},
          "execution_count": 41
        }
      ]
    },
    {
      "cell_type": "code",
      "source": [
        "books_tag = soup.find_all('article',class_='product_pod')"
      ],
      "metadata": {
        "id": "fjCKrf_5wakE"
      },
      "execution_count": 42,
      "outputs": []
    },
    {
      "cell_type": "code",
      "source": [
        "len(books_tag)"
      ],
      "metadata": {
        "colab": {
          "base_uri": "https://localhost:8080/"
        },
        "id": "vdXeHKrnxcTz",
        "outputId": "715e379f-0e62-4e51-88c6-7c9479ecbc28"
      },
      "execution_count": 43,
      "outputs": [
        {
          "output_type": "execute_result",
          "data": {
            "text/plain": [
              "20"
            ]
          },
          "metadata": {},
          "execution_count": 43
        }
      ]
    },
    {
      "cell_type": "code",
      "source": [
        "book = books_tag[0]\n",
        "print(book)"
      ],
      "metadata": {
        "colab": {
          "base_uri": "https://localhost:8080/"
        },
        "id": "aiSNWtNCxoI_",
        "outputId": "0fa2b0a9-359e-4288-f72b-df85e1494b32"
      },
      "execution_count": 44,
      "outputs": [
        {
          "output_type": "stream",
          "name": "stdout",
          "text": [
            "<article class=\"product_pod\">\n",
            "<div class=\"image_container\">\n",
            "<a href=\"catalogue/a-light-in-the-attic_1000/index.html\"><img alt=\"A Light in the Attic\" class=\"thumbnail\" src=\"media/cache/2c/da/2cdad67c44b002e7ead0cc35693c0e8b.jpg\"/></a>\n",
            "</div>\n",
            "<p class=\"star-rating Three\">\n",
            "<i class=\"icon-star\"></i>\n",
            "<i class=\"icon-star\"></i>\n",
            "<i class=\"icon-star\"></i>\n",
            "<i class=\"icon-star\"></i>\n",
            "<i class=\"icon-star\"></i>\n",
            "</p>\n",
            "<h3><a href=\"catalogue/a-light-in-the-attic_1000/index.html\" title=\"A Light in the Attic\">A Light in the ...</a></h3>\n",
            "<div class=\"product_price\">\n",
            "<p class=\"price_color\">Â£51.77</p>\n",
            "<p class=\"instock availability\">\n",
            "<i class=\"icon-ok\"></i>\n",
            "    \n",
            "        In stock\n",
            "    \n",
            "</p>\n",
            "<form>\n",
            "<button class=\"btn btn-primary btn-block\" data-loading-text=\"Adding...\" type=\"submit\">Add to basket</button>\n",
            "</form>\n",
            "</div>\n",
            "</article>\n"
          ]
        }
      ]
    },
    {
      "cell_type": "code",
      "source": [
        "title_tag = book.find('a',title=True)\n",
        "title_tag"
      ],
      "metadata": {
        "colab": {
          "base_uri": "https://localhost:8080/"
        },
        "id": "JTyFJarTyDHu",
        "outputId": "931a93b1-c618-4703-a7e0-e8d444aaf717"
      },
      "execution_count": 45,
      "outputs": [
        {
          "output_type": "execute_result",
          "data": {
            "text/plain": [
              "<a href=\"catalogue/a-light-in-the-attic_1000/index.html\" title=\"A Light in the Attic\">A Light in the ...</a>"
            ]
          },
          "metadata": {},
          "execution_count": 45
        }
      ]
    },
    {
      "cell_type": "code",
      "source": [
        "title_tag.text"
      ],
      "metadata": {
        "colab": {
          "base_uri": "https://localhost:8080/",
          "height": 35
        },
        "id": "Rh5HnNe9yaaB",
        "outputId": "5d8c8d04-2832-4001-86fc-2223894a7b67"
      },
      "execution_count": 46,
      "outputs": [
        {
          "output_type": "execute_result",
          "data": {
            "text/plain": [
              "'A Light in the ...'"
            ],
            "application/vnd.google.colaboratory.intrinsic+json": {
              "type": "string"
            }
          },
          "metadata": {},
          "execution_count": 46
        }
      ]
    },
    {
      "cell_type": "code",
      "source": [
        "title_tag['href']"
      ],
      "metadata": {
        "colab": {
          "base_uri": "https://localhost:8080/",
          "height": 35
        },
        "id": "cG6tUrgdyfhO",
        "outputId": "92f7513c-a1d7-43dc-f9e1-241892f4d5b5"
      },
      "execution_count": 47,
      "outputs": [
        {
          "output_type": "execute_result",
          "data": {
            "text/plain": [
              "'catalogue/a-light-in-the-attic_1000/index.html'"
            ],
            "application/vnd.google.colaboratory.intrinsic+json": {
              "type": "string"
            }
          },
          "metadata": {},
          "execution_count": 47
        }
      ]
    },
    {
      "cell_type": "code",
      "source": [
        "title_tag['title']"
      ],
      "metadata": {
        "colab": {
          "base_uri": "https://localhost:8080/",
          "height": 35
        },
        "id": "7ox4vJnnynPJ",
        "outputId": "ca25bbb9-15d2-49a4-aa65-1c8bfdd23d05"
      },
      "execution_count": 48,
      "outputs": [
        {
          "output_type": "execute_result",
          "data": {
            "text/plain": [
              "'A Light in the Attic'"
            ],
            "application/vnd.google.colaboratory.intrinsic+json": {
              "type": "string"
            }
          },
          "metadata": {},
          "execution_count": 48
        }
      ]
    },
    {
      "cell_type": "code",
      "source": [
        "book.find('p')['class'][1]"
      ],
      "metadata": {
        "colab": {
          "base_uri": "https://localhost:8080/",
          "height": 35
        },
        "id": "LcHpgoAOy2JV",
        "outputId": "ea267aff-6a26-4c53-e6ce-41b42628b505"
      },
      "execution_count": 49,
      "outputs": [
        {
          "output_type": "execute_result",
          "data": {
            "text/plain": [
              "'Three'"
            ],
            "application/vnd.google.colaboratory.intrinsic+json": {
              "type": "string"
            }
          },
          "metadata": {},
          "execution_count": 49
        }
      ]
    },
    {
      "cell_type": "code",
      "source": [
        "response = requests.get(url)\n",
        "soup = bs(response.content, \"html.parser\")"
      ],
      "metadata": {
        "id": "fUDSfzQDlAhG"
      },
      "execution_count": 63,
      "outputs": []
    },
    {
      "cell_type": "code",
      "source": [
        "book_list=[]"
      ],
      "metadata": {
        "id": "dFJ_1VvzlCfL"
      },
      "execution_count": 64,
      "outputs": []
    },
    {
      "cell_type": "code",
      "source": [
        "articles = soup.find_all(\"article\", class_=\"product_pod\")"
      ],
      "metadata": {
        "id": "3s_FoXmJlWku"
      },
      "execution_count": 65,
      "outputs": []
    },
    {
      "cell_type": "code",
      "source": [
        "for article in articles:\n",
        "    title = article.find(\"h3\").find(\"a\")[\"title\"]\n",
        "    rating = article.find(\"p\", class_=\"star-rating\")[\"class\"][1]\n",
        "    price = article.find(\"p\", class_=\"price_color\").text\n",
        "    link = article.find(\"h3\").find(\"a\")[\"href\"]\n",
        "\n",
        "    print(\"Title:\", title)\n",
        "    print(\"Rating:\", rating)\n",
        "    print(\"Price:\", price)\n",
        "    print(\"Link:\", \"https://books.toscrape.com/\" + link)"
      ],
      "metadata": {
        "colab": {
          "base_uri": "https://localhost:8080/"
        },
        "id": "I3HImygvlT1S",
        "outputId": "746ccc64-2ea0-46a3-a44c-568f77c552ca"
      },
      "execution_count": 66,
      "outputs": [
        {
          "output_type": "stream",
          "name": "stdout",
          "text": [
            "Title: A Light in the Attic\n",
            "Rating: Three\n",
            "Price: £51.77\n",
            "Link: https://books.toscrape.com/catalogue/a-light-in-the-attic_1000/index.html\n",
            "Title: Tipping the Velvet\n",
            "Rating: One\n",
            "Price: £53.74\n",
            "Link: https://books.toscrape.com/catalogue/tipping-the-velvet_999/index.html\n",
            "Title: Soumission\n",
            "Rating: One\n",
            "Price: £50.10\n",
            "Link: https://books.toscrape.com/catalogue/soumission_998/index.html\n",
            "Title: Sharp Objects\n",
            "Rating: Four\n",
            "Price: £47.82\n",
            "Link: https://books.toscrape.com/catalogue/sharp-objects_997/index.html\n",
            "Title: Sapiens: A Brief History of Humankind\n",
            "Rating: Five\n",
            "Price: £54.23\n",
            "Link: https://books.toscrape.com/catalogue/sapiens-a-brief-history-of-humankind_996/index.html\n",
            "Title: The Requiem Red\n",
            "Rating: One\n",
            "Price: £22.65\n",
            "Link: https://books.toscrape.com/catalogue/the-requiem-red_995/index.html\n",
            "Title: The Dirty Little Secrets of Getting Your Dream Job\n",
            "Rating: Four\n",
            "Price: £33.34\n",
            "Link: https://books.toscrape.com/catalogue/the-dirty-little-secrets-of-getting-your-dream-job_994/index.html\n",
            "Title: The Coming Woman: A Novel Based on the Life of the Infamous Feminist, Victoria Woodhull\n",
            "Rating: Three\n",
            "Price: £17.93\n",
            "Link: https://books.toscrape.com/catalogue/the-coming-woman-a-novel-based-on-the-life-of-the-infamous-feminist-victoria-woodhull_993/index.html\n",
            "Title: The Boys in the Boat: Nine Americans and Their Epic Quest for Gold at the 1936 Berlin Olympics\n",
            "Rating: Four\n",
            "Price: £22.60\n",
            "Link: https://books.toscrape.com/catalogue/the-boys-in-the-boat-nine-americans-and-their-epic-quest-for-gold-at-the-1936-berlin-olympics_992/index.html\n",
            "Title: The Black Maria\n",
            "Rating: One\n",
            "Price: £52.15\n",
            "Link: https://books.toscrape.com/catalogue/the-black-maria_991/index.html\n",
            "Title: Starving Hearts (Triangular Trade Trilogy, #1)\n",
            "Rating: Two\n",
            "Price: £13.99\n",
            "Link: https://books.toscrape.com/catalogue/starving-hearts-triangular-trade-trilogy-1_990/index.html\n",
            "Title: Shakespeare's Sonnets\n",
            "Rating: Four\n",
            "Price: £20.66\n",
            "Link: https://books.toscrape.com/catalogue/shakespeares-sonnets_989/index.html\n",
            "Title: Set Me Free\n",
            "Rating: Five\n",
            "Price: £17.46\n",
            "Link: https://books.toscrape.com/catalogue/set-me-free_988/index.html\n",
            "Title: Scott Pilgrim's Precious Little Life (Scott Pilgrim #1)\n",
            "Rating: Five\n",
            "Price: £52.29\n",
            "Link: https://books.toscrape.com/catalogue/scott-pilgrims-precious-little-life-scott-pilgrim-1_987/index.html\n",
            "Title: Rip it Up and Start Again\n",
            "Rating: Five\n",
            "Price: £35.02\n",
            "Link: https://books.toscrape.com/catalogue/rip-it-up-and-start-again_986/index.html\n",
            "Title: Our Band Could Be Your Life: Scenes from the American Indie Underground, 1981-1991\n",
            "Rating: Three\n",
            "Price: £57.25\n",
            "Link: https://books.toscrape.com/catalogue/our-band-could-be-your-life-scenes-from-the-american-indie-underground-1981-1991_985/index.html\n",
            "Title: Olio\n",
            "Rating: One\n",
            "Price: £23.88\n",
            "Link: https://books.toscrape.com/catalogue/olio_984/index.html\n",
            "Title: Mesaerion: The Best Science Fiction Stories 1800-1849\n",
            "Rating: One\n",
            "Price: £37.59\n",
            "Link: https://books.toscrape.com/catalogue/mesaerion-the-best-science-fiction-stories-1800-1849_983/index.html\n",
            "Title: Libertarianism for Beginners\n",
            "Rating: Two\n",
            "Price: £51.33\n",
            "Link: https://books.toscrape.com/catalogue/libertarianism-for-beginners_982/index.html\n",
            "Title: It's Only the Himalayas\n",
            "Rating: Two\n",
            "Price: £45.17\n",
            "Link: https://books.toscrape.com/catalogue/its-only-the-himalayas_981/index.html\n"
          ]
        }
      ]
    },
    {
      "cell_type": "code",
      "source": [
        "for article in articles:\n",
        "    title = article.find(\"h3\").find(\"a\")[\"title\"]\n",
        "    rating = article.find(\"p\", class_=\"star-rating\")[\"class\"][1]\n",
        "    price = article.find(\"p\", class_=\"price_color\").text\n",
        "    link = article.find(\"h3\").find(\"a\")[\"href\"]\n",
        "\n",
        "    book_dictionary={\n",
        "    \"Title:\": title,\n",
        "    \"Rating:\": rating,\n",
        "    \"Price:\": price,\n",
        "    \"Link:\": \"https://books.toscrape.com/\" + link}\n",
        "    book_list.append(book_dictionary)"
      ],
      "metadata": {
        "id": "C_ZGlICaldQk"
      },
      "execution_count": 67,
      "outputs": []
    },
    {
      "cell_type": "code",
      "source": [
        "df = pd.DataFrame(book_list)\n",
        "print(df)"
      ],
      "metadata": {
        "colab": {
          "base_uri": "https://localhost:8080/"
        },
        "id": "pMl4dFcMmANn",
        "outputId": "0eb5e173-744d-4793-8a10-0dd00568e04c"
      },
      "execution_count": 69,
      "outputs": [
        {
          "output_type": "stream",
          "name": "stdout",
          "text": [
            "                                               Title: Rating:  Price:  \\\n",
            "0                                A Light in the Attic   Three  £51.77   \n",
            "1                                  Tipping the Velvet     One  £53.74   \n",
            "2                                          Soumission     One  £50.10   \n",
            "3                                       Sharp Objects    Four  £47.82   \n",
            "4               Sapiens: A Brief History of Humankind    Five  £54.23   \n",
            "5                                     The Requiem Red     One  £22.65   \n",
            "6   The Dirty Little Secrets of Getting Your Dream...    Four  £33.34   \n",
            "7   The Coming Woman: A Novel Based on the Life of...   Three  £17.93   \n",
            "8   The Boys in the Boat: Nine Americans and Their...    Four  £22.60   \n",
            "9                                     The Black Maria     One  £52.15   \n",
            "10     Starving Hearts (Triangular Trade Trilogy, #1)     Two  £13.99   \n",
            "11                              Shakespeare's Sonnets    Four  £20.66   \n",
            "12                                        Set Me Free    Five  £17.46   \n",
            "13  Scott Pilgrim's Precious Little Life (Scott Pi...    Five  £52.29   \n",
            "14                          Rip it Up and Start Again    Five  £35.02   \n",
            "15  Our Band Could Be Your Life: Scenes from the A...   Three  £57.25   \n",
            "16                                               Olio     One  £23.88   \n",
            "17  Mesaerion: The Best Science Fiction Stories 18...     One  £37.59   \n",
            "18                       Libertarianism for Beginners     Two  £51.33   \n",
            "19                            It's Only the Himalayas     Two  £45.17   \n",
            "\n",
            "                                                Link:  \n",
            "0   https://books.toscrape.com/catalogue/a-light-i...  \n",
            "1   https://books.toscrape.com/catalogue/tipping-t...  \n",
            "2   https://books.toscrape.com/catalogue/soumissio...  \n",
            "3   https://books.toscrape.com/catalogue/sharp-obj...  \n",
            "4   https://books.toscrape.com/catalogue/sapiens-a...  \n",
            "5   https://books.toscrape.com/catalogue/the-requi...  \n",
            "6   https://books.toscrape.com/catalogue/the-dirty...  \n",
            "7   https://books.toscrape.com/catalogue/the-comin...  \n",
            "8   https://books.toscrape.com/catalogue/the-boys-...  \n",
            "9   https://books.toscrape.com/catalogue/the-black...  \n",
            "10  https://books.toscrape.com/catalogue/starving-...  \n",
            "11  https://books.toscrape.com/catalogue/shakespea...  \n",
            "12  https://books.toscrape.com/catalogue/set-me-fr...  \n",
            "13  https://books.toscrape.com/catalogue/scott-pil...  \n",
            "14  https://books.toscrape.com/catalogue/rip-it-up...  \n",
            "15  https://books.toscrape.com/catalogue/our-band-...  \n",
            "16  https://books.toscrape.com/catalogue/olio_984/...  \n",
            "17  https://books.toscrape.com/catalogue/mesaerion...  \n",
            "18  https://books.toscrape.com/catalogue/libertari...  \n",
            "19  https://books.toscrape.com/catalogue/its-only-...  \n"
          ]
        }
      ]
    },
    {
      "cell_type": "code",
      "source": [
        "display(df)"
      ],
      "metadata": {
        "colab": {
          "base_uri": "https://localhost:8080/",
          "height": 1000
        },
        "id": "rPVjyUyWmEXe",
        "outputId": "98968610-8766-4d4d-d349-09dd9849af9e"
      },
      "execution_count": 72,
      "outputs": [
        {
          "output_type": "display_data",
          "data": {
            "text/plain": [
              "                                               Title: Rating:  Price:  \\\n",
              "0                                A Light in the Attic   Three  £51.77   \n",
              "1                                  Tipping the Velvet     One  £53.74   \n",
              "2                                          Soumission     One  £50.10   \n",
              "3                                       Sharp Objects    Four  £47.82   \n",
              "4               Sapiens: A Brief History of Humankind    Five  £54.23   \n",
              "5                                     The Requiem Red     One  £22.65   \n",
              "6   The Dirty Little Secrets of Getting Your Dream...    Four  £33.34   \n",
              "7   The Coming Woman: A Novel Based on the Life of...   Three  £17.93   \n",
              "8   The Boys in the Boat: Nine Americans and Their...    Four  £22.60   \n",
              "9                                     The Black Maria     One  £52.15   \n",
              "10     Starving Hearts (Triangular Trade Trilogy, #1)     Two  £13.99   \n",
              "11                              Shakespeare's Sonnets    Four  £20.66   \n",
              "12                                        Set Me Free    Five  £17.46   \n",
              "13  Scott Pilgrim's Precious Little Life (Scott Pi...    Five  £52.29   \n",
              "14                          Rip it Up and Start Again    Five  £35.02   \n",
              "15  Our Band Could Be Your Life: Scenes from the A...   Three  £57.25   \n",
              "16                                               Olio     One  £23.88   \n",
              "17  Mesaerion: The Best Science Fiction Stories 18...     One  £37.59   \n",
              "18                       Libertarianism for Beginners     Two  £51.33   \n",
              "19                            It's Only the Himalayas     Two  £45.17   \n",
              "\n",
              "                                                Link:  \n",
              "0   https://books.toscrape.com/catalogue/a-light-i...  \n",
              "1   https://books.toscrape.com/catalogue/tipping-t...  \n",
              "2   https://books.toscrape.com/catalogue/soumissio...  \n",
              "3   https://books.toscrape.com/catalogue/sharp-obj...  \n",
              "4   https://books.toscrape.com/catalogue/sapiens-a...  \n",
              "5   https://books.toscrape.com/catalogue/the-requi...  \n",
              "6   https://books.toscrape.com/catalogue/the-dirty...  \n",
              "7   https://books.toscrape.com/catalogue/the-comin...  \n",
              "8   https://books.toscrape.com/catalogue/the-boys-...  \n",
              "9   https://books.toscrape.com/catalogue/the-black...  \n",
              "10  https://books.toscrape.com/catalogue/starving-...  \n",
              "11  https://books.toscrape.com/catalogue/shakespea...  \n",
              "12  https://books.toscrape.com/catalogue/set-me-fr...  \n",
              "13  https://books.toscrape.com/catalogue/scott-pil...  \n",
              "14  https://books.toscrape.com/catalogue/rip-it-up...  \n",
              "15  https://books.toscrape.com/catalogue/our-band-...  \n",
              "16  https://books.toscrape.com/catalogue/olio_984/...  \n",
              "17  https://books.toscrape.com/catalogue/mesaerion...  \n",
              "18  https://books.toscrape.com/catalogue/libertari...  \n",
              "19  https://books.toscrape.com/catalogue/its-only-...  "
            ],
            "text/html": [
              "\n",
              "  <div id=\"df-bc63cdec-5d79-41cf-bd9a-d893f2e38b2f\" class=\"colab-df-container\">\n",
              "    <div>\n",
              "<style scoped>\n",
              "    .dataframe tbody tr th:only-of-type {\n",
              "        vertical-align: middle;\n",
              "    }\n",
              "\n",
              "    .dataframe tbody tr th {\n",
              "        vertical-align: top;\n",
              "    }\n",
              "\n",
              "    .dataframe thead th {\n",
              "        text-align: right;\n",
              "    }\n",
              "</style>\n",
              "<table border=\"1\" class=\"dataframe\">\n",
              "  <thead>\n",
              "    <tr style=\"text-align: right;\">\n",
              "      <th></th>\n",
              "      <th>Title:</th>\n",
              "      <th>Rating:</th>\n",
              "      <th>Price:</th>\n",
              "      <th>Link:</th>\n",
              "    </tr>\n",
              "  </thead>\n",
              "  <tbody>\n",
              "    <tr>\n",
              "      <th>0</th>\n",
              "      <td>A Light in the Attic</td>\n",
              "      <td>Three</td>\n",
              "      <td>£51.77</td>\n",
              "      <td>https://books.toscrape.com/catalogue/a-light-i...</td>\n",
              "    </tr>\n",
              "    <tr>\n",
              "      <th>1</th>\n",
              "      <td>Tipping the Velvet</td>\n",
              "      <td>One</td>\n",
              "      <td>£53.74</td>\n",
              "      <td>https://books.toscrape.com/catalogue/tipping-t...</td>\n",
              "    </tr>\n",
              "    <tr>\n",
              "      <th>2</th>\n",
              "      <td>Soumission</td>\n",
              "      <td>One</td>\n",
              "      <td>£50.10</td>\n",
              "      <td>https://books.toscrape.com/catalogue/soumissio...</td>\n",
              "    </tr>\n",
              "    <tr>\n",
              "      <th>3</th>\n",
              "      <td>Sharp Objects</td>\n",
              "      <td>Four</td>\n",
              "      <td>£47.82</td>\n",
              "      <td>https://books.toscrape.com/catalogue/sharp-obj...</td>\n",
              "    </tr>\n",
              "    <tr>\n",
              "      <th>4</th>\n",
              "      <td>Sapiens: A Brief History of Humankind</td>\n",
              "      <td>Five</td>\n",
              "      <td>£54.23</td>\n",
              "      <td>https://books.toscrape.com/catalogue/sapiens-a...</td>\n",
              "    </tr>\n",
              "    <tr>\n",
              "      <th>5</th>\n",
              "      <td>The Requiem Red</td>\n",
              "      <td>One</td>\n",
              "      <td>£22.65</td>\n",
              "      <td>https://books.toscrape.com/catalogue/the-requi...</td>\n",
              "    </tr>\n",
              "    <tr>\n",
              "      <th>6</th>\n",
              "      <td>The Dirty Little Secrets of Getting Your Dream...</td>\n",
              "      <td>Four</td>\n",
              "      <td>£33.34</td>\n",
              "      <td>https://books.toscrape.com/catalogue/the-dirty...</td>\n",
              "    </tr>\n",
              "    <tr>\n",
              "      <th>7</th>\n",
              "      <td>The Coming Woman: A Novel Based on the Life of...</td>\n",
              "      <td>Three</td>\n",
              "      <td>£17.93</td>\n",
              "      <td>https://books.toscrape.com/catalogue/the-comin...</td>\n",
              "    </tr>\n",
              "    <tr>\n",
              "      <th>8</th>\n",
              "      <td>The Boys in the Boat: Nine Americans and Their...</td>\n",
              "      <td>Four</td>\n",
              "      <td>£22.60</td>\n",
              "      <td>https://books.toscrape.com/catalogue/the-boys-...</td>\n",
              "    </tr>\n",
              "    <tr>\n",
              "      <th>9</th>\n",
              "      <td>The Black Maria</td>\n",
              "      <td>One</td>\n",
              "      <td>£52.15</td>\n",
              "      <td>https://books.toscrape.com/catalogue/the-black...</td>\n",
              "    </tr>\n",
              "    <tr>\n",
              "      <th>10</th>\n",
              "      <td>Starving Hearts (Triangular Trade Trilogy, #1)</td>\n",
              "      <td>Two</td>\n",
              "      <td>£13.99</td>\n",
              "      <td>https://books.toscrape.com/catalogue/starving-...</td>\n",
              "    </tr>\n",
              "    <tr>\n",
              "      <th>11</th>\n",
              "      <td>Shakespeare's Sonnets</td>\n",
              "      <td>Four</td>\n",
              "      <td>£20.66</td>\n",
              "      <td>https://books.toscrape.com/catalogue/shakespea...</td>\n",
              "    </tr>\n",
              "    <tr>\n",
              "      <th>12</th>\n",
              "      <td>Set Me Free</td>\n",
              "      <td>Five</td>\n",
              "      <td>£17.46</td>\n",
              "      <td>https://books.toscrape.com/catalogue/set-me-fr...</td>\n",
              "    </tr>\n",
              "    <tr>\n",
              "      <th>13</th>\n",
              "      <td>Scott Pilgrim's Precious Little Life (Scott Pi...</td>\n",
              "      <td>Five</td>\n",
              "      <td>£52.29</td>\n",
              "      <td>https://books.toscrape.com/catalogue/scott-pil...</td>\n",
              "    </tr>\n",
              "    <tr>\n",
              "      <th>14</th>\n",
              "      <td>Rip it Up and Start Again</td>\n",
              "      <td>Five</td>\n",
              "      <td>£35.02</td>\n",
              "      <td>https://books.toscrape.com/catalogue/rip-it-up...</td>\n",
              "    </tr>\n",
              "    <tr>\n",
              "      <th>15</th>\n",
              "      <td>Our Band Could Be Your Life: Scenes from the A...</td>\n",
              "      <td>Three</td>\n",
              "      <td>£57.25</td>\n",
              "      <td>https://books.toscrape.com/catalogue/our-band-...</td>\n",
              "    </tr>\n",
              "    <tr>\n",
              "      <th>16</th>\n",
              "      <td>Olio</td>\n",
              "      <td>One</td>\n",
              "      <td>£23.88</td>\n",
              "      <td>https://books.toscrape.com/catalogue/olio_984/...</td>\n",
              "    </tr>\n",
              "    <tr>\n",
              "      <th>17</th>\n",
              "      <td>Mesaerion: The Best Science Fiction Stories 18...</td>\n",
              "      <td>One</td>\n",
              "      <td>£37.59</td>\n",
              "      <td>https://books.toscrape.com/catalogue/mesaerion...</td>\n",
              "    </tr>\n",
              "    <tr>\n",
              "      <th>18</th>\n",
              "      <td>Libertarianism for Beginners</td>\n",
              "      <td>Two</td>\n",
              "      <td>£51.33</td>\n",
              "      <td>https://books.toscrape.com/catalogue/libertari...</td>\n",
              "    </tr>\n",
              "    <tr>\n",
              "      <th>19</th>\n",
              "      <td>It's Only the Himalayas</td>\n",
              "      <td>Two</td>\n",
              "      <td>£45.17</td>\n",
              "      <td>https://books.toscrape.com/catalogue/its-only-...</td>\n",
              "    </tr>\n",
              "  </tbody>\n",
              "</table>\n",
              "</div>\n",
              "    <div class=\"colab-df-buttons\">\n",
              "\n",
              "  <div class=\"colab-df-container\">\n",
              "    <button class=\"colab-df-convert\" onclick=\"convertToInteractive('df-bc63cdec-5d79-41cf-bd9a-d893f2e38b2f')\"\n",
              "            title=\"Convert this dataframe to an interactive table.\"\n",
              "            style=\"display:none;\">\n",
              "\n",
              "  <svg xmlns=\"http://www.w3.org/2000/svg\" height=\"24px\" viewBox=\"0 -960 960 960\">\n",
              "    <path d=\"M120-120v-720h720v720H120Zm60-500h600v-160H180v160Zm220 220h160v-160H400v160Zm0 220h160v-160H400v160ZM180-400h160v-160H180v160Zm440 0h160v-160H620v160ZM180-180h160v-160H180v160Zm440 0h160v-160H620v160Z\"/>\n",
              "  </svg>\n",
              "    </button>\n",
              "\n",
              "  <style>\n",
              "    .colab-df-container {\n",
              "      display:flex;\n",
              "      gap: 12px;\n",
              "    }\n",
              "\n",
              "    .colab-df-convert {\n",
              "      background-color: #E8F0FE;\n",
              "      border: none;\n",
              "      border-radius: 50%;\n",
              "      cursor: pointer;\n",
              "      display: none;\n",
              "      fill: #1967D2;\n",
              "      height: 32px;\n",
              "      padding: 0 0 0 0;\n",
              "      width: 32px;\n",
              "    }\n",
              "\n",
              "    .colab-df-convert:hover {\n",
              "      background-color: #E2EBFA;\n",
              "      box-shadow: 0px 1px 2px rgba(60, 64, 67, 0.3), 0px 1px 3px 1px rgba(60, 64, 67, 0.15);\n",
              "      fill: #174EA6;\n",
              "    }\n",
              "\n",
              "    .colab-df-buttons div {\n",
              "      margin-bottom: 4px;\n",
              "    }\n",
              "\n",
              "    [theme=dark] .colab-df-convert {\n",
              "      background-color: #3B4455;\n",
              "      fill: #D2E3FC;\n",
              "    }\n",
              "\n",
              "    [theme=dark] .colab-df-convert:hover {\n",
              "      background-color: #434B5C;\n",
              "      box-shadow: 0px 1px 3px 1px rgba(0, 0, 0, 0.15);\n",
              "      filter: drop-shadow(0px 1px 2px rgba(0, 0, 0, 0.3));\n",
              "      fill: #FFFFFF;\n",
              "    }\n",
              "  </style>\n",
              "\n",
              "    <script>\n",
              "      const buttonEl =\n",
              "        document.querySelector('#df-bc63cdec-5d79-41cf-bd9a-d893f2e38b2f button.colab-df-convert');\n",
              "      buttonEl.style.display =\n",
              "        google.colab.kernel.accessAllowed ? 'block' : 'none';\n",
              "\n",
              "      async function convertToInteractive(key) {\n",
              "        const element = document.querySelector('#df-bc63cdec-5d79-41cf-bd9a-d893f2e38b2f');\n",
              "        const dataTable =\n",
              "          await google.colab.kernel.invokeFunction('convertToInteractive',\n",
              "                                                    [key], {});\n",
              "        if (!dataTable) return;\n",
              "\n",
              "        const docLinkHtml = 'Like what you see? Visit the ' +\n",
              "          '<a target=\"_blank\" href=https://colab.research.google.com/notebooks/data_table.ipynb>data table notebook</a>'\n",
              "          + ' to learn more about interactive tables.';\n",
              "        element.innerHTML = '';\n",
              "        dataTable['output_type'] = 'display_data';\n",
              "        await google.colab.output.renderOutput(dataTable, element);\n",
              "        const docLink = document.createElement('div');\n",
              "        docLink.innerHTML = docLinkHtml;\n",
              "        element.appendChild(docLink);\n",
              "      }\n",
              "    </script>\n",
              "  </div>\n",
              "\n",
              "\n",
              "<div id=\"df-03d4cb75-9aa8-4cc2-b3c0-7e570c8ef8e5\">\n",
              "  <button class=\"colab-df-quickchart\" onclick=\"quickchart('df-03d4cb75-9aa8-4cc2-b3c0-7e570c8ef8e5')\"\n",
              "            title=\"Suggest charts\"\n",
              "            style=\"display:none;\">\n",
              "\n",
              "<svg xmlns=\"http://www.w3.org/2000/svg\" height=\"24px\"viewBox=\"0 0 24 24\"\n",
              "     width=\"24px\">\n",
              "    <g>\n",
              "        <path d=\"M19 3H5c-1.1 0-2 .9-2 2v14c0 1.1.9 2 2 2h14c1.1 0 2-.9 2-2V5c0-1.1-.9-2-2-2zM9 17H7v-7h2v7zm4 0h-2V7h2v10zm4 0h-2v-4h2v4z\"/>\n",
              "    </g>\n",
              "</svg>\n",
              "  </button>\n",
              "\n",
              "<style>\n",
              "  .colab-df-quickchart {\n",
              "      --bg-color: #E8F0FE;\n",
              "      --fill-color: #1967D2;\n",
              "      --hover-bg-color: #E2EBFA;\n",
              "      --hover-fill-color: #174EA6;\n",
              "      --disabled-fill-color: #AAA;\n",
              "      --disabled-bg-color: #DDD;\n",
              "  }\n",
              "\n",
              "  [theme=dark] .colab-df-quickchart {\n",
              "      --bg-color: #3B4455;\n",
              "      --fill-color: #D2E3FC;\n",
              "      --hover-bg-color: #434B5C;\n",
              "      --hover-fill-color: #FFFFFF;\n",
              "      --disabled-bg-color: #3B4455;\n",
              "      --disabled-fill-color: #666;\n",
              "  }\n",
              "\n",
              "  .colab-df-quickchart {\n",
              "    background-color: var(--bg-color);\n",
              "    border: none;\n",
              "    border-radius: 50%;\n",
              "    cursor: pointer;\n",
              "    display: none;\n",
              "    fill: var(--fill-color);\n",
              "    height: 32px;\n",
              "    padding: 0;\n",
              "    width: 32px;\n",
              "  }\n",
              "\n",
              "  .colab-df-quickchart:hover {\n",
              "    background-color: var(--hover-bg-color);\n",
              "    box-shadow: 0 1px 2px rgba(60, 64, 67, 0.3), 0 1px 3px 1px rgba(60, 64, 67, 0.15);\n",
              "    fill: var(--button-hover-fill-color);\n",
              "  }\n",
              "\n",
              "  .colab-df-quickchart-complete:disabled,\n",
              "  .colab-df-quickchart-complete:disabled:hover {\n",
              "    background-color: var(--disabled-bg-color);\n",
              "    fill: var(--disabled-fill-color);\n",
              "    box-shadow: none;\n",
              "  }\n",
              "\n",
              "  .colab-df-spinner {\n",
              "    border: 2px solid var(--fill-color);\n",
              "    border-color: transparent;\n",
              "    border-bottom-color: var(--fill-color);\n",
              "    animation:\n",
              "      spin 1s steps(1) infinite;\n",
              "  }\n",
              "\n",
              "  @keyframes spin {\n",
              "    0% {\n",
              "      border-color: transparent;\n",
              "      border-bottom-color: var(--fill-color);\n",
              "      border-left-color: var(--fill-color);\n",
              "    }\n",
              "    20% {\n",
              "      border-color: transparent;\n",
              "      border-left-color: var(--fill-color);\n",
              "      border-top-color: var(--fill-color);\n",
              "    }\n",
              "    30% {\n",
              "      border-color: transparent;\n",
              "      border-left-color: var(--fill-color);\n",
              "      border-top-color: var(--fill-color);\n",
              "      border-right-color: var(--fill-color);\n",
              "    }\n",
              "    40% {\n",
              "      border-color: transparent;\n",
              "      border-right-color: var(--fill-color);\n",
              "      border-top-color: var(--fill-color);\n",
              "    }\n",
              "    60% {\n",
              "      border-color: transparent;\n",
              "      border-right-color: var(--fill-color);\n",
              "    }\n",
              "    80% {\n",
              "      border-color: transparent;\n",
              "      border-right-color: var(--fill-color);\n",
              "      border-bottom-color: var(--fill-color);\n",
              "    }\n",
              "    90% {\n",
              "      border-color: transparent;\n",
              "      border-bottom-color: var(--fill-color);\n",
              "    }\n",
              "  }\n",
              "</style>\n",
              "\n",
              "  <script>\n",
              "    async function quickchart(key) {\n",
              "      const quickchartButtonEl =\n",
              "        document.querySelector('#' + key + ' button');\n",
              "      quickchartButtonEl.disabled = true;  // To prevent multiple clicks.\n",
              "      quickchartButtonEl.classList.add('colab-df-spinner');\n",
              "      try {\n",
              "        const charts = await google.colab.kernel.invokeFunction(\n",
              "            'suggestCharts', [key], {});\n",
              "      } catch (error) {\n",
              "        console.error('Error during call to suggestCharts:', error);\n",
              "      }\n",
              "      quickchartButtonEl.classList.remove('colab-df-spinner');\n",
              "      quickchartButtonEl.classList.add('colab-df-quickchart-complete');\n",
              "    }\n",
              "    (() => {\n",
              "      let quickchartButtonEl =\n",
              "        document.querySelector('#df-03d4cb75-9aa8-4cc2-b3c0-7e570c8ef8e5 button');\n",
              "      quickchartButtonEl.style.display =\n",
              "        google.colab.kernel.accessAllowed ? 'block' : 'none';\n",
              "    })();\n",
              "  </script>\n",
              "</div>\n",
              "\n",
              "  <div id=\"id_ef3a2719-df69-4f31-83bc-db45a8941ccc\">\n",
              "    <style>\n",
              "      .colab-df-generate {\n",
              "        background-color: #E8F0FE;\n",
              "        border: none;\n",
              "        border-radius: 50%;\n",
              "        cursor: pointer;\n",
              "        display: none;\n",
              "        fill: #1967D2;\n",
              "        height: 32px;\n",
              "        padding: 0 0 0 0;\n",
              "        width: 32px;\n",
              "      }\n",
              "\n",
              "      .colab-df-generate:hover {\n",
              "        background-color: #E2EBFA;\n",
              "        box-shadow: 0px 1px 2px rgba(60, 64, 67, 0.3), 0px 1px 3px 1px rgba(60, 64, 67, 0.15);\n",
              "        fill: #174EA6;\n",
              "      }\n",
              "\n",
              "      [theme=dark] .colab-df-generate {\n",
              "        background-color: #3B4455;\n",
              "        fill: #D2E3FC;\n",
              "      }\n",
              "\n",
              "      [theme=dark] .colab-df-generate:hover {\n",
              "        background-color: #434B5C;\n",
              "        box-shadow: 0px 1px 3px 1px rgba(0, 0, 0, 0.15);\n",
              "        filter: drop-shadow(0px 1px 2px rgba(0, 0, 0, 0.3));\n",
              "        fill: #FFFFFF;\n",
              "      }\n",
              "    </style>\n",
              "    <button class=\"colab-df-generate\" onclick=\"generateWithVariable('df')\"\n",
              "            title=\"Generate code using this dataframe.\"\n",
              "            style=\"display:none;\">\n",
              "\n",
              "  <svg xmlns=\"http://www.w3.org/2000/svg\" height=\"24px\"viewBox=\"0 0 24 24\"\n",
              "       width=\"24px\">\n",
              "    <path d=\"M7,19H8.4L18.45,9,17,7.55,7,17.6ZM5,21V16.75L18.45,3.32a2,2,0,0,1,2.83,0l1.4,1.43a1.91,1.91,0,0,1,.58,1.4,1.91,1.91,0,0,1-.58,1.4L9.25,21ZM18.45,9,17,7.55Zm-12,3A5.31,5.31,0,0,0,4.9,8.1,5.31,5.31,0,0,0,1,6.5,5.31,5.31,0,0,0,4.9,4.9,5.31,5.31,0,0,0,6.5,1,5.31,5.31,0,0,0,8.1,4.9,5.31,5.31,0,0,0,12,6.5,5.46,5.46,0,0,0,6.5,12Z\"/>\n",
              "  </svg>\n",
              "    </button>\n",
              "    <script>\n",
              "      (() => {\n",
              "      const buttonEl =\n",
              "        document.querySelector('#id_ef3a2719-df69-4f31-83bc-db45a8941ccc button.colab-df-generate');\n",
              "      buttonEl.style.display =\n",
              "        google.colab.kernel.accessAllowed ? 'block' : 'none';\n",
              "\n",
              "      buttonEl.onclick = () => {\n",
              "        google.colab.notebook.generateWithVariable('df');\n",
              "      }\n",
              "      })();\n",
              "    </script>\n",
              "  </div>\n",
              "\n",
              "    </div>\n",
              "  </div>\n"
            ]
          },
          "metadata": {}
        }
      ]
    },
    {
      "cell_type": "code",
      "source": [],
      "metadata": {
        "id": "SkW3_3O8mgAa"
      },
      "execution_count": null,
      "outputs": []
    }
  ]
}